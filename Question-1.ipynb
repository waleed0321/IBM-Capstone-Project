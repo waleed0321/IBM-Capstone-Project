{
 "cells": [
  {
   "cell_type": "code",
   "execution_count": 3,
   "metadata": {},
   "outputs": [],
   "source": [
    "%matplotlib inline\n",
    "import pandas as pd\n",
    "import numpy as np\n",
    "import seaborn as sns\n",
    "import matplotlib as mpl\n",
    "import matplotlib.pyplot as plt"
   ]
  },
  {
   "cell_type": "code",
   "execution_count": 4,
   "metadata": {},
   "outputs": [
    {
     "data": {
      "text/html": [
       "<div>\n",
       "<style scoped>\n",
       "    .dataframe tbody tr th:only-of-type {\n",
       "        vertical-align: middle;\n",
       "    }\n",
       "\n",
       "    .dataframe tbody tr th {\n",
       "        vertical-align: top;\n",
       "    }\n",
       "\n",
       "    .dataframe thead th {\n",
       "        text-align: right;\n",
       "    }\n",
       "</style>\n",
       "<table border=\"1\" class=\"dataframe\">\n",
       "  <thead>\n",
       "    <tr style=\"text-align: right;\">\n",
       "      <th></th>\n",
       "      <th>unique_key</th>\n",
       "      <th>created_date</th>\n",
       "      <th>closed_date</th>\n",
       "      <th>agency</th>\n",
       "      <th>agency_name</th>\n",
       "      <th>complaint_type</th>\n",
       "      <th>descriptor</th>\n",
       "      <th>location_type</th>\n",
       "      <th>incident_zip</th>\n",
       "      <th>incident_address</th>\n",
       "      <th>...</th>\n",
       "      <th>vehicle_type</th>\n",
       "      <th>taxi_company_borough</th>\n",
       "      <th>taxi_pick_up_location</th>\n",
       "      <th>bridge_highway_name</th>\n",
       "      <th>bridge_highway_direction</th>\n",
       "      <th>road_ramp</th>\n",
       "      <th>bridge_highway_segment</th>\n",
       "      <th>latitude</th>\n",
       "      <th>longitude</th>\n",
       "      <th>location</th>\n",
       "    </tr>\n",
       "  </thead>\n",
       "  <tbody>\n",
       "    <tr>\n",
       "      <th>0</th>\n",
       "      <td>46198038</td>\n",
       "      <td>2020-05-15T02:01:30.000</td>\n",
       "      <td>NaN</td>\n",
       "      <td>NYPD</td>\n",
       "      <td>New York City Police Department</td>\n",
       "      <td>Noise - Residential</td>\n",
       "      <td>Loud Music/Party</td>\n",
       "      <td>Residential Building/House</td>\n",
       "      <td>11206.0</td>\n",
       "      <td>811 FLUSHING AVENUE</td>\n",
       "      <td>...</td>\n",
       "      <td>NaN</td>\n",
       "      <td>NaN</td>\n",
       "      <td>NaN</td>\n",
       "      <td>NaN</td>\n",
       "      <td>NaN</td>\n",
       "      <td>NaN</td>\n",
       "      <td>NaN</td>\n",
       "      <td>40.701169</td>\n",
       "      <td>-73.940049</td>\n",
       "      <td>\\n,  \\n(40.70116923498277, -73.94004889209619)</td>\n",
       "    </tr>\n",
       "    <tr>\n",
       "      <th>1</th>\n",
       "      <td>46199075</td>\n",
       "      <td>2020-05-15T02:01:09.000</td>\n",
       "      <td>NaN</td>\n",
       "      <td>NYPD</td>\n",
       "      <td>New York City Police Department</td>\n",
       "      <td>Illegal Parking</td>\n",
       "      <td>Blocked Hydrant</td>\n",
       "      <td>Street/Sidewalk</td>\n",
       "      <td>10312.0</td>\n",
       "      <td>120 SHOTWELL AVENUE</td>\n",
       "      <td>...</td>\n",
       "      <td>NaN</td>\n",
       "      <td>NaN</td>\n",
       "      <td>NaN</td>\n",
       "      <td>NaN</td>\n",
       "      <td>NaN</td>\n",
       "      <td>NaN</td>\n",
       "      <td>NaN</td>\n",
       "      <td>40.553805</td>\n",
       "      <td>-74.181537</td>\n",
       "      <td>\\n,  \\n(40.55380540206159, -74.18153672909946)</td>\n",
       "    </tr>\n",
       "    <tr>\n",
       "      <th>2</th>\n",
       "      <td>46202091</td>\n",
       "      <td>2020-05-15T02:00:53.000</td>\n",
       "      <td>NaN</td>\n",
       "      <td>NYPD</td>\n",
       "      <td>New York City Police Department</td>\n",
       "      <td>Noise - Street/Sidewalk</td>\n",
       "      <td>Loud Music/Party</td>\n",
       "      <td>Street/Sidewalk</td>\n",
       "      <td>11212.0</td>\n",
       "      <td>81 JUNIUS STREET</td>\n",
       "      <td>...</td>\n",
       "      <td>NaN</td>\n",
       "      <td>NaN</td>\n",
       "      <td>NaN</td>\n",
       "      <td>NaN</td>\n",
       "      <td>NaN</td>\n",
       "      <td>NaN</td>\n",
       "      <td>NaN</td>\n",
       "      <td>40.673003</td>\n",
       "      <td>-73.903826</td>\n",
       "      <td>\\n,  \\n(40.673002516118665, -73.90382600006895)</td>\n",
       "    </tr>\n",
       "    <tr>\n",
       "      <th>3</th>\n",
       "      <td>46194846</td>\n",
       "      <td>2020-05-15T02:00:09.000</td>\n",
       "      <td>NaN</td>\n",
       "      <td>DOHMH</td>\n",
       "      <td>Department of Health and Mental Hygiene</td>\n",
       "      <td>Rodent</td>\n",
       "      <td>Rat Sighting</td>\n",
       "      <td>3+ Family Apt. Building</td>\n",
       "      <td>11230.0</td>\n",
       "      <td>1887 CONEY ISLAND AVENUE</td>\n",
       "      <td>...</td>\n",
       "      <td>NaN</td>\n",
       "      <td>NaN</td>\n",
       "      <td>NaN</td>\n",
       "      <td>NaN</td>\n",
       "      <td>NaN</td>\n",
       "      <td>NaN</td>\n",
       "      <td>NaN</td>\n",
       "      <td>40.611306</td>\n",
       "      <td>-73.962615</td>\n",
       "      <td>\\n,  \\n(40.611306415360204, -73.96261476339647)</td>\n",
       "    </tr>\n",
       "    <tr>\n",
       "      <th>4</th>\n",
       "      <td>46202129</td>\n",
       "      <td>2020-05-15T01:58:47.000</td>\n",
       "      <td>NaN</td>\n",
       "      <td>NYPD</td>\n",
       "      <td>New York City Police Department</td>\n",
       "      <td>Illegal Parking</td>\n",
       "      <td>Blocked Sidewalk</td>\n",
       "      <td>NaN</td>\n",
       "      <td>10452.0</td>\n",
       "      <td>EAST  174 STREET</td>\n",
       "      <td>...</td>\n",
       "      <td>NaN</td>\n",
       "      <td>NaN</td>\n",
       "      <td>NaN</td>\n",
       "      <td>NaN</td>\n",
       "      <td>NaN</td>\n",
       "      <td>NaN</td>\n",
       "      <td>NaN</td>\n",
       "      <td>40.845061</td>\n",
       "      <td>-73.913087</td>\n",
       "      <td>\\n,  \\n(40.84506144312155, -73.91308651834815)</td>\n",
       "    </tr>\n",
       "    <tr>\n",
       "      <th>5</th>\n",
       "      <td>46201020</td>\n",
       "      <td>2020-05-15T01:58:40.000</td>\n",
       "      <td>NaN</td>\n",
       "      <td>NYPD</td>\n",
       "      <td>New York City Police Department</td>\n",
       "      <td>Illegal Parking</td>\n",
       "      <td>Blocked Hydrant</td>\n",
       "      <td>Street/Sidewalk</td>\n",
       "      <td>11204.0</td>\n",
       "      <td>1729 67 STREET</td>\n",
       "      <td>...</td>\n",
       "      <td>NaN</td>\n",
       "      <td>NaN</td>\n",
       "      <td>NaN</td>\n",
       "      <td>NaN</td>\n",
       "      <td>NaN</td>\n",
       "      <td>NaN</td>\n",
       "      <td>NaN</td>\n",
       "      <td>40.618696</td>\n",
       "      <td>-73.993044</td>\n",
       "      <td>\\n,  \\n(40.61869577853208, -73.99304442374901)</td>\n",
       "    </tr>\n",
       "    <tr>\n",
       "      <th>6</th>\n",
       "      <td>46198045</td>\n",
       "      <td>2020-05-15T01:58:30.000</td>\n",
       "      <td>NaN</td>\n",
       "      <td>NYPD</td>\n",
       "      <td>New York City Police Department</td>\n",
       "      <td>Noise - Street/Sidewalk</td>\n",
       "      <td>Loud Music/Party</td>\n",
       "      <td>Street/Sidewalk</td>\n",
       "      <td>11212.0</td>\n",
       "      <td>30 GLENMORE AVENUE</td>\n",
       "      <td>...</td>\n",
       "      <td>NaN</td>\n",
       "      <td>NaN</td>\n",
       "      <td>NaN</td>\n",
       "      <td>NaN</td>\n",
       "      <td>NaN</td>\n",
       "      <td>NaN</td>\n",
       "      <td>NaN</td>\n",
       "      <td>40.671149</td>\n",
       "      <td>-73.909708</td>\n",
       "      <td>\\n,  \\n(40.671149068671546, -73.90970825480059)</td>\n",
       "    </tr>\n",
       "  </tbody>\n",
       "</table>\n",
       "<p>7 rows × 41 columns</p>\n",
       "</div>"
      ],
      "text/plain": [
       "   unique_key             created_date closed_date agency  \\\n",
       "0    46198038  2020-05-15T02:01:30.000         NaN   NYPD   \n",
       "1    46199075  2020-05-15T02:01:09.000         NaN   NYPD   \n",
       "2    46202091  2020-05-15T02:00:53.000         NaN   NYPD   \n",
       "3    46194846  2020-05-15T02:00:09.000         NaN  DOHMH   \n",
       "4    46202129  2020-05-15T01:58:47.000         NaN   NYPD   \n",
       "5    46201020  2020-05-15T01:58:40.000         NaN   NYPD   \n",
       "6    46198045  2020-05-15T01:58:30.000         NaN   NYPD   \n",
       "\n",
       "                               agency_name           complaint_type  \\\n",
       "0          New York City Police Department      Noise - Residential   \n",
       "1          New York City Police Department          Illegal Parking   \n",
       "2          New York City Police Department  Noise - Street/Sidewalk   \n",
       "3  Department of Health and Mental Hygiene                   Rodent   \n",
       "4          New York City Police Department          Illegal Parking   \n",
       "5          New York City Police Department          Illegal Parking   \n",
       "6          New York City Police Department  Noise - Street/Sidewalk   \n",
       "\n",
       "         descriptor               location_type  incident_zip  \\\n",
       "0  Loud Music/Party  Residential Building/House       11206.0   \n",
       "1   Blocked Hydrant             Street/Sidewalk       10312.0   \n",
       "2  Loud Music/Party             Street/Sidewalk       11212.0   \n",
       "3      Rat Sighting     3+ Family Apt. Building       11230.0   \n",
       "4  Blocked Sidewalk                         NaN       10452.0   \n",
       "5   Blocked Hydrant             Street/Sidewalk       11204.0   \n",
       "6  Loud Music/Party             Street/Sidewalk       11212.0   \n",
       "\n",
       "           incident_address  ... vehicle_type taxi_company_borough  \\\n",
       "0       811 FLUSHING AVENUE  ...          NaN                  NaN   \n",
       "1       120 SHOTWELL AVENUE  ...          NaN                  NaN   \n",
       "2          81 JUNIUS STREET  ...          NaN                  NaN   \n",
       "3  1887 CONEY ISLAND AVENUE  ...          NaN                  NaN   \n",
       "4          EAST  174 STREET  ...          NaN                  NaN   \n",
       "5            1729 67 STREET  ...          NaN                  NaN   \n",
       "6        30 GLENMORE AVENUE  ...          NaN                  NaN   \n",
       "\n",
       "  taxi_pick_up_location bridge_highway_name bridge_highway_direction  \\\n",
       "0                   NaN                 NaN                      NaN   \n",
       "1                   NaN                 NaN                      NaN   \n",
       "2                   NaN                 NaN                      NaN   \n",
       "3                   NaN                 NaN                      NaN   \n",
       "4                   NaN                 NaN                      NaN   \n",
       "5                   NaN                 NaN                      NaN   \n",
       "6                   NaN                 NaN                      NaN   \n",
       "\n",
       "  road_ramp bridge_highway_segment   latitude  longitude  \\\n",
       "0       NaN                    NaN  40.701169 -73.940049   \n",
       "1       NaN                    NaN  40.553805 -74.181537   \n",
       "2       NaN                    NaN  40.673003 -73.903826   \n",
       "3       NaN                    NaN  40.611306 -73.962615   \n",
       "4       NaN                    NaN  40.845061 -73.913087   \n",
       "5       NaN                    NaN  40.618696 -73.993044   \n",
       "6       NaN                    NaN  40.671149 -73.909708   \n",
       "\n",
       "                                          location  \n",
       "0   \\n,  \\n(40.70116923498277, -73.94004889209619)  \n",
       "1   \\n,  \\n(40.55380540206159, -74.18153672909946)  \n",
       "2  \\n,  \\n(40.673002516118665, -73.90382600006895)  \n",
       "3  \\n,  \\n(40.611306415360204, -73.96261476339647)  \n",
       "4   \\n,  \\n(40.84506144312155, -73.91308651834815)  \n",
       "5   \\n,  \\n(40.61869577853208, -73.99304442374901)  \n",
       "6  \\n,  \\n(40.671149068671546, -73.90970825480059)  \n",
       "\n",
       "[7 rows x 41 columns]"
      ]
     },
     "execution_count": 4,
     "metadata": {},
     "output_type": "execute_result"
    }
   ],
   "source": [
    "df=pd.read_csv('https://data.cityofnewyork.us/resource/erm2-nwe9.csv')\n",
    "df.head(7)"
   ]
  },
  {
   "cell_type": "code",
   "execution_count": 5,
   "metadata": {},
   "outputs": [
    {
     "data": {
      "text/plain": [
       "(1000, 41)"
      ]
     },
     "execution_count": 5,
     "metadata": {},
     "output_type": "execute_result"
    }
   ],
   "source": [
    "df.shape      # Analyzing the size of data"
   ]
  },
  {
   "cell_type": "code",
   "execution_count": 7,
   "metadata": {},
   "outputs": [
    {
     "data": {
      "text/plain": [
       "Index(['unique_key', 'created_date', 'closed_date', 'agency', 'agency_name',\n",
       "       'complaint_type', 'descriptor', 'location_type', 'incident_zip',\n",
       "       'incident_address', 'street_name', 'cross_street_1', 'cross_street_2',\n",
       "       'intersection_street_1', 'intersection_street_2', 'address_type',\n",
       "       'city', 'landmark', 'facility_type', 'status', 'due_date',\n",
       "       'resolution_description', 'resolution_action_updated_date',\n",
       "       'community_board', 'bbl', 'borough', 'x_coordinate_state_plane',\n",
       "       'y_coordinate_state_plane', 'open_data_channel_type',\n",
       "       'park_facility_name', 'park_borough', 'vehicle_type',\n",
       "       'taxi_company_borough', 'taxi_pick_up_location', 'bridge_highway_name',\n",
       "       'bridge_highway_direction', 'road_ramp', 'bridge_highway_segment',\n",
       "       'latitude', 'longitude', 'location'],\n",
       "      dtype='object')"
      ]
     },
     "execution_count": 7,
     "metadata": {},
     "output_type": "execute_result"
    }
   ],
   "source": [
    "df.columns   # viewing columns header"
   ]
  },
  {
   "cell_type": "code",
   "execution_count": 8,
   "metadata": {},
   "outputs": [
    {
     "data": {
      "text/plain": [
       "unique_key                          int64\n",
       "created_date                       object\n",
       "closed_date                        object\n",
       "agency                             object\n",
       "agency_name                        object\n",
       "complaint_type                     object\n",
       "descriptor                         object\n",
       "location_type                      object\n",
       "incident_zip                      float64\n",
       "incident_address                   object\n",
       "street_name                        object\n",
       "cross_street_1                     object\n",
       "cross_street_2                     object\n",
       "intersection_street_1              object\n",
       "intersection_street_2              object\n",
       "address_type                       object\n",
       "city                               object\n",
       "landmark                           object\n",
       "facility_type                     float64\n",
       "status                             object\n",
       "due_date                          float64\n",
       "resolution_description             object\n",
       "resolution_action_updated_date     object\n",
       "community_board                    object\n",
       "bbl                               float64\n",
       "borough                            object\n",
       "x_coordinate_state_plane          float64\n",
       "y_coordinate_state_plane          float64\n",
       "open_data_channel_type             object\n",
       "park_facility_name                 object\n",
       "park_borough                       object\n",
       "vehicle_type                      float64\n",
       "taxi_company_borough              float64\n",
       "taxi_pick_up_location              object\n",
       "bridge_highway_name               float64\n",
       "bridge_highway_direction          float64\n",
       "road_ramp                         float64\n",
       "bridge_highway_segment            float64\n",
       "latitude                          float64\n",
       "longitude                         float64\n",
       "location                           object\n",
       "dtype: object"
      ]
     },
     "execution_count": 8,
     "metadata": {},
     "output_type": "execute_result"
    }
   ],
   "source": [
    "df.dtypes   # Columns datatype"
   ]
  },
  {
   "cell_type": "code",
   "execution_count": 19,
   "metadata": {},
   "outputs": [
    {
     "data": {
      "text/plain": [
       "[['complaint_type', 'city']]"
      ]
     },
     "execution_count": 19,
     "metadata": {},
     "output_type": "execute_result"
    }
   ],
   "source": [
    "\"\"\"To identify the top complaint type, considering column named \"complaint_type\"and checking different types of complaints\n",
    "using \"unique\" function\"\"\""
   ]
  },
  {
   "cell_type": "code",
   "execution_count": 9,
   "metadata": {},
   "outputs": [
    {
     "data": {
      "text/plain": [
       "array(['Noise - Residential', 'Illegal Parking',\n",
       "       'Noise - Street/Sidewalk', 'Rodent', 'Non-Emergency Police Matter',\n",
       "       'Noise - Vehicle', 'New Tree Request',\n",
       "       'Homeless Person Assistance', 'Indoor Air Quality',\n",
       "       'Blocked Driveway', 'Maintenance or Facility',\n",
       "       'Noise - Commercial', 'Smoking', 'Noise - Helicopter',\n",
       "       'Homeless Street Condition', 'Drug Activity', 'Curb Condition',\n",
       "       'Consumer Complaint', 'Drinking', 'Street Light Condition',\n",
       "       'Traffic', 'Street Condition', 'Illegal Animal Kept as Pet',\n",
       "       'Traffic Signal Condition', 'Sidewalk Condition', 'Lead',\n",
       "       'PAINT/PLASTER', 'UNSANITARY CONDITION', 'Noise', 'Damaged Tree',\n",
       "       'Abandoned Vehicle', 'X-Ray Machine/Equipment', 'PLUMBING',\n",
       "       'ELECTRIC', 'Air Quality', 'HEAT/HOT WATER', 'Sewer',\n",
       "       'Water System', 'DOOR/WINDOW', 'GENERAL',\n",
       "       'Bus Stop Shelter Complaint', 'Taxi Report', 'Water Conservation'],\n",
       "      dtype=object)"
      ]
     },
     "execution_count": 9,
     "metadata": {},
     "output_type": "execute_result"
    }
   ],
   "source": [
    "df['complaint_type'].unique()"
   ]
  },
  {
   "cell_type": "code",
   "execution_count": 10,
   "metadata": {},
   "outputs": [
    {
     "data": {
      "text/plain": [
       "0"
      ]
     },
     "execution_count": 10,
     "metadata": {},
     "output_type": "execute_result"
    }
   ],
   "source": [
    "#viewing is there any null values\n",
    "\n",
    "df['complaint_type'].isnull().sum()"
   ]
  },
  {
   "cell_type": "code",
   "execution_count": 12,
   "metadata": {},
   "outputs": [
    {
     "data": {
      "text/plain": [
       "Noise - Residential            376\n",
       "Noise - Street/Sidewalk        193\n",
       "Non-Emergency Police Matter    132\n",
       "Noise - Vehicle                 66\n",
       "Illegal Parking                 52\n",
       "Blocked Driveway                26\n",
       "Rodent                          18\n",
       "Noise - Commercial              16\n",
       "Noise                           14\n",
       "HEAT/HOT WATER                  13\n",
       "UNSANITARY CONDITION            10\n",
       "Consumer Complaint               9\n",
       "Street Condition                 7\n",
       "Homeless Street Condition        6\n",
       "Traffic                          6\n",
       "ELECTRIC                         5\n",
       "Street Light Condition           4\n",
       "Homeless Person Assistance       4\n",
       "DOOR/WINDOW                      4\n",
       "Drinking                         3\n",
       "Drug Activity                    3\n",
       "Abandoned Vehicle                3\n",
       "Water System                     3\n",
       "Illegal Animal Kept as Pet       2\n",
       "PAINT/PLASTER                    2\n",
       "Lead                             2\n",
       "Traffic Signal Condition         2\n",
       "New Tree Request                 2\n",
       "PLUMBING                         2\n",
       "Sewer                            2\n",
       "X-Ray Machine/Equipment          1\n",
       "Sidewalk Condition               1\n",
       "Water Conservation               1\n",
       "GENERAL                          1\n",
       "Curb Condition                   1\n",
       "Taxi Report                      1\n",
       "Indoor Air Quality               1\n",
       "Air Quality                      1\n",
       "Damaged Tree                     1\n",
       "Maintenance or Facility          1\n",
       "Smoking                          1\n",
       "Noise - Helicopter               1\n",
       "Bus Stop Shelter Complaint       1\n",
       "Name: complaint_type, dtype: int64"
      ]
     },
     "execution_count": 12,
     "metadata": {},
     "output_type": "execute_result"
    }
   ],
   "source": [
    "#Calculating the total frequency of each complaint\n",
    "\n",
    "df['complaint_type'].value_counts() "
   ]
  },
  {
   "cell_type": "code",
   "execution_count": 14,
   "metadata": {},
   "outputs": [
    {
     "data": {
      "image/png": "[encoded data removed]",
      "text/plain": [
       "<Figure size 1008x1008 with 1 Axes>"
      ]
     },
     "metadata": {
      "needs_background": "light"
     },
     "output_type": "display_data"
    }
   ],
   "source": [
    "df_311nyc_complaint = df['complaint_type'].value_counts()\n",
    "df_311nyc_complaint.sort_values(ascending = True, inplace =True)\n",
    "Total_complaint = df_311nyc_complaint.sum()\n",
    "\n",
    "# Create the barh plot\n",
    "df_311nyc_complaint.plot(kind = 'barh', figsize = (14,14), color=sns.color_palette(\"coolwarm\", len(df_311nyc_complaint)))\n",
    "plt.title('Total Complaints')\n",
    "\n",
    "# Calculating percentage for total number of complaints per type\n",
    "for index, value in enumerate(df_311nyc_complaint):\n",
    "    label =  '{}%'.format(round((value/Total_complaint)*100, 2)) \n",
    "    plt.annotate(label, xy=(value, index-0.1), color='red')\n",
    "    \n",
    "plt.show()"
   ]
  },
  {
   "cell_type": "code",
   "execution_count": null,
   "metadata": {},
   "outputs": [],
   "source": [
    "\"\"\"Final Conclusion: The top 2 complaints i.e. Noise - Residential & Noise - Street/Sidewalk   approximately accounts for around\n",
    "35% (highest) of total complaints made. Hence, in my opinion, the Department of Housing Preservation and Development should \n",
    "focus on these complaints first.\"\"\""
   ]
  }
 ],
 "metadata": {
  "kernelspec": {
   "display_name": "Python 3",
   "language": "python",
   "name": "python3"
  },
  "language_info": {
   "codemirror_mode": {
    "name": "ipython",
    "version": 3
   },
   "file_extension": ".py",
   "mimetype": "text/x-python",
   "name": "python",
   "nbconvert_exporter": "python",
   "pygments_lexer": "ipython3",
   "version": "3.7.6"
  }
 },
 "nbformat": 4,
 "nbformat_minor": 4
}
